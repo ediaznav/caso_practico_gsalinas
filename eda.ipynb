{
 "cells": [
  {
   "cell_type": "markdown",
   "id": "2c8c06f7-9a7b-479e-89e0-8f8028649c80",
   "metadata": {},
   "source": [
    "# EDA en los datos crudos \n",
    "\n",
    "En el presente notebooks se hace una exploracion de los datos crudos para entender los tipos de datos y las problemáticas que podrian surgir en un proceso ETL con estos datos en el origen. "
   ]
  },
  {
   "cell_type": "code",
   "execution_count": 10,
   "id": "0f2a874c-751e-44df-a2e6-5e1254b9ac4d",
   "metadata": {},
   "outputs": [],
   "source": [
    "# Importamos las librerías necesarias \n",
    "\n",
    "# Manejo de datos y exploración\n",
    "import pandas as pd\n",
    "import numpy as np\n",
    "\n",
    "# Libreria auxiliar\n",
    "from src.etl import *\n"
   ]
  },
  {
   "cell_type": "code",
   "execution_count": 18,
   "id": "082adba4-d480-4e1d-a72b-ae8b90063e84",
   "metadata": {},
   "outputs": [],
   "source": [
    "# parametros \n",
    "\n",
    "DATA_RAW_DIRECTORY = \"./data/raw/\"\n",
    "DATA_PREP_DIRECTORY = \"./data/prep/\"\n",
    "DATA_CLEAN_DIRECTORY = \"./data/clean/\"\n",
    "\n",
    "ORIGIN_FILE = \"ventas_clientes.xlsx\"\n",
    "FINAL_FILE = \"ventas_clientes.csv\""
   ]
  },
  {
   "cell_type": "markdown",
   "id": "f238d4c1-5363-46c2-b901-bdda43902ff1",
   "metadata": {},
   "source": [
    "### Exploración inicial "
   ]
  },
  {
   "cell_type": "markdown",
   "id": "9f22b485-c604-48b2-bf3d-ec4b40f5afb4",
   "metadata": {},
   "source": [
    "Probamos si el archivo tiene problemas de carga, de no ser asi, lo cargamos a memoria "
   ]
  },
  {
   "cell_type": "code",
   "execution_count": 12,
   "id": "cfe91ce9-29f0-4975-b0f8-442bf0c07420",
   "metadata": {},
   "outputs": [
    {
     "data": {
      "text/html": [
       "<div>\n",
       "<style scoped>\n",
       "    .dataframe tbody tr th:only-of-type {\n",
       "        vertical-align: middle;\n",
       "    }\n",
       "\n",
       "    .dataframe tbody tr th {\n",
       "        vertical-align: top;\n",
       "    }\n",
       "\n",
       "    .dataframe thead th {\n",
       "        text-align: right;\n",
       "    }\n",
       "</style>\n",
       "<table border=\"1\" class=\"dataframe\">\n",
       "  <thead>\n",
       "    <tr style=\"text-align: right;\">\n",
       "      <th></th>\n",
       "      <th>Fecha</th>\n",
       "      <th>Region</th>\n",
       "      <th>Producto</th>\n",
       "      <th>Ventas</th>\n",
       "      <th>Clientes</th>\n",
       "    </tr>\n",
       "  </thead>\n",
       "  <tbody>\n",
       "    <tr>\n",
       "      <th>0</th>\n",
       "      <td>2023-01-01</td>\n",
       "      <td>Norte</td>\n",
       "      <td>Producto A</td>\n",
       "      <td>210821</td>\n",
       "      <td>1689</td>\n",
       "    </tr>\n",
       "    <tr>\n",
       "      <th>1</th>\n",
       "      <td>2023-01-01</td>\n",
       "      <td>Norte</td>\n",
       "      <td>Producto B</td>\n",
       "      <td>531578</td>\n",
       "      <td>1269</td>\n",
       "    </tr>\n",
       "    <tr>\n",
       "      <th>2</th>\n",
       "      <td>2023-01-01</td>\n",
       "      <td>Norte</td>\n",
       "      <td>Producto C</td>\n",
       "      <td>158817</td>\n",
       "      <td>1678</td>\n",
       "    </tr>\n",
       "    <tr>\n",
       "      <th>3</th>\n",
       "      <td>2023-01-01</td>\n",
       "      <td>Norte</td>\n",
       "      <td>Producto D</td>\n",
       "      <td>455092</td>\n",
       "      <td>4465</td>\n",
       "    </tr>\n",
       "    <tr>\n",
       "      <th>4</th>\n",
       "      <td>2023-01-01</td>\n",
       "      <td>Norte</td>\n",
       "      <td>Producto E</td>\n",
       "      <td>450756</td>\n",
       "      <td>2213</td>\n",
       "    </tr>\n",
       "  </tbody>\n",
       "</table>\n",
       "</div>"
      ],
      "text/plain": [
       "       Fecha Region    Producto  Ventas  Clientes\n",
       "0 2023-01-01  Norte  Producto A  210821      1689\n",
       "1 2023-01-01  Norte  Producto B  531578      1269\n",
       "2 2023-01-01  Norte  Producto C  158817      1678\n",
       "3 2023-01-01  Norte  Producto D  455092      4465\n",
       "4 2023-01-01  Norte  Producto E  450756      2213"
      ]
     },
     "execution_count": 12,
     "metadata": {},
     "output_type": "execute_result"
    }
   ],
   "source": [
    "# Validamos la carga correcta \n",
    "cargar_data_excel(DATA_RAW_DIRECTORY + ORIGIN_FILE)"
   ]
  },
  {
   "cell_type": "code",
   "execution_count": 13,
   "id": "4bdd23d1-dbf2-4b6a-bdbf-4f20a09547de",
   "metadata": {},
   "outputs": [],
   "source": [
    "# Guardamos en memoria los datos \n",
    "df = pd.read_excel(DATA_RAW_DIRECTORY + ORIGIN_FILE)"
   ]
  },
  {
   "cell_type": "code",
   "execution_count": 26,
   "id": "c04278d0-126c-4b5a-90be-5e231a3ffb7e",
   "metadata": {},
   "outputs": [
    {
     "data": {
      "text/html": [
       "<div>\n",
       "<style scoped>\n",
       "    .dataframe tbody tr th:only-of-type {\n",
       "        vertical-align: middle;\n",
       "    }\n",
       "\n",
       "    .dataframe tbody tr th {\n",
       "        vertical-align: top;\n",
       "    }\n",
       "\n",
       "    .dataframe thead th {\n",
       "        text-align: right;\n",
       "    }\n",
       "</style>\n",
       "<table border=\"1\" class=\"dataframe\">\n",
       "  <thead>\n",
       "    <tr style=\"text-align: right;\">\n",
       "      <th></th>\n",
       "      <th>tipo_dato</th>\n",
       "      <th>valores_unicos</th>\n",
       "      <th>nulos</th>\n",
       "      <th>total</th>\n",
       "      <th>pc_nulos</th>\n",
       "    </tr>\n",
       "  </thead>\n",
       "  <tbody>\n",
       "    <tr>\n",
       "      <th>Fecha</th>\n",
       "      <td>datetime64[ns]</td>\n",
       "      <td>24</td>\n",
       "      <td>0</td>\n",
       "      <td>480</td>\n",
       "      <td>0.0</td>\n",
       "    </tr>\n",
       "    <tr>\n",
       "      <th>Region</th>\n",
       "      <td>object</td>\n",
       "      <td>4</td>\n",
       "      <td>0</td>\n",
       "      <td>480</td>\n",
       "      <td>0.0</td>\n",
       "    </tr>\n",
       "    <tr>\n",
       "      <th>Producto</th>\n",
       "      <td>object</td>\n",
       "      <td>5</td>\n",
       "      <td>0</td>\n",
       "      <td>480</td>\n",
       "      <td>0.0</td>\n",
       "    </tr>\n",
       "    <tr>\n",
       "      <th>Ventas</th>\n",
       "      <td>int64</td>\n",
       "      <td>479</td>\n",
       "      <td>0</td>\n",
       "      <td>480</td>\n",
       "      <td>0.0</td>\n",
       "    </tr>\n",
       "    <tr>\n",
       "      <th>Clientes</th>\n",
       "      <td>int64</td>\n",
       "      <td>459</td>\n",
       "      <td>0</td>\n",
       "      <td>480</td>\n",
       "      <td>0.0</td>\n",
       "    </tr>\n",
       "  </tbody>\n",
       "</table>\n",
       "</div>"
      ],
      "text/plain": [
       "               tipo_dato  valores_unicos  nulos  total  pc_nulos\n",
       "Fecha     datetime64[ns]              24      0    480       0.0\n",
       "Region            object               4      0    480       0.0\n",
       "Producto          object               5      0    480       0.0\n",
       "Ventas             int64             479      0    480       0.0\n",
       "Clientes           int64             459      0    480       0.0"
      ]
     },
     "execution_count": 26,
     "metadata": {},
     "output_type": "execute_result"
    }
   ],
   "source": [
    "# Generamos un resumen de las columnas\n",
    "res_col_df = resumen_columnas(df)\n",
    "res_col_df[\"pc_nulos\"] = (res_col_df[\"nulos\"]/res_col_df[\"total\"]).round(2)\n",
    "res_col_df"
   ]
  },
  {
   "cell_type": "code",
   "execution_count": 27,
   "id": "61901649-c612-47a6-8a47-3bdcf944f2e9",
   "metadata": {},
   "outputs": [],
   "source": [
    "res_col_df.reset_index().rename(columns = {\"index\":\"Campo\"}).to_csv(DATA_CLEAN_DIRECTORY + \"resumen_datos.csv\", index = False)"
   ]
  },
  {
   "cell_type": "markdown",
   "id": "84407737-0823-4de7-a868-638d6cbc87bf",
   "metadata": {},
   "source": [
    "A partir de esto definimos el esquema de datos"
   ]
  },
  {
   "cell_type": "code",
   "execution_count": 15,
   "id": "b97ab698-0afe-446d-acba-9f79850f798d",
   "metadata": {},
   "outputs": [
    {
     "name": "stdout",
     "output_type": "stream",
     "text": [
      "El esquema de Spark recomendado es: ----------- \n",
      " StructType([\n",
      "    StructField('Fecha', TimestampType(), True),\n",
      "    StructField('Region', StringType(), True),\n",
      "    StructField('Producto', StringType(), True),\n",
      "    StructField('Ventas', IntegerType(), True),\n",
      "    StructField('Clientes', IntegerType(), True)\n",
      "])\n"
     ]
    }
   ],
   "source": [
    "schema_str = generar_schema_spark(res_col_df.reset_index().rename(columns = {\"index\":\"columna\", \"tipo_dato\":\"tipo\"})[[\"columna\", \"tipo\"]])\n",
    "print(\"El esquema de Spark recomendado es: ----------- \\n\", schema_str)"
   ]
  },
  {
   "cell_type": "markdown",
   "id": "e16db5b2-a0db-40d7-9d5e-69becb9721c1",
   "metadata": {},
   "source": [
    "### Pruebas de calidad y Limpieza"
   ]
  },
  {
   "cell_type": "markdown",
   "id": "bfd5ef1d-cc0a-4257-b9e3-b4062a425e7f",
   "metadata": {},
   "source": [
    "Realizamos pruebas de calidad y guardamos el archivo limpio"
   ]
  },
  {
   "cell_type": "code",
   "execution_count": 16,
   "id": "a76dc579-ef9b-4868-9eec-bd1ca5cec957",
   "metadata": {},
   "outputs": [],
   "source": [
    "# Pruebas para Fecha\n",
    "run_datetime_quality_tests(df, 'Fecha')\n",
    "\n",
    "# Pruebas para tipos object\n",
    "run_object_quality_tests(df, 'Region')\n",
    "run_object_quality_tests(df, 'Producto')\n",
    "\n",
    "# Pruebas para tipos int64\n",
    "run_integer_quality_tests(df, 'Ventas')\n",
    "run_integer_quality_tests(df, 'Clientes')"
   ]
  },
  {
   "cell_type": "markdown",
   "id": "378b8463-6fdb-459e-869d-06cf4e187a76",
   "metadata": {},
   "source": [
    "Transformaciones "
   ]
  },
  {
   "cell_type": "code",
   "execution_count": 8,
   "id": "2858527d-8847-4660-b561-72d9203194c9",
   "metadata": {},
   "outputs": [],
   "source": [
    "# Formato a columnas object\n",
    "df = formatear_columnas_string(df, columnas=None)\n",
    "\n",
    "# Fill NAs en entero \n",
    "df = rellenar_nulos_numericos(df, columna = \"Ventas\", metodo = 'mediana')\n",
    "\n",
    "# Formateamos los nombres de las columnas\n",
    "df.columns = [x.replace(\" \",\"_\").lower() for x in df.columns.tolist()]"
   ]
  },
  {
   "cell_type": "code",
   "execution_count": 9,
   "id": "103167c3-2f5f-4711-a722-de20ceb028a8",
   "metadata": {},
   "outputs": [
    {
     "name": "stdout",
     "output_type": "stream",
     "text": [
      "Archivo guardado exitosamente en: ./data/prep/ventas_clientes.csv\n"
     ]
    }
   ],
   "source": [
    "# Guardamos el archivo , aún crudo, en fromato csv\n",
    "guardar_data_csv(df, file_path = DATA_PREP_DIRECTORY + FINAL_FILE, index= False)"
   ]
  },
  {
   "cell_type": "code",
   "execution_count": null,
   "id": "d80c6038-bd70-46f1-bfbb-ce5eaba78e41",
   "metadata": {},
   "outputs": [],
   "source": []
  },
  {
   "cell_type": "code",
   "execution_count": null,
   "id": "4d472d19-5be6-479a-be29-9006948e3f3d",
   "metadata": {},
   "outputs": [],
   "source": []
  }
 ],
 "metadata": {
  "kernelspec": {
   "display_name": "Python 3 (ipykernel)",
   "language": "python",
   "name": "python3"
  },
  "language_info": {
   "codemirror_mode": {
    "name": "ipython",
    "version": 3
   },
   "file_extension": ".py",
   "mimetype": "text/x-python",
   "name": "python",
   "nbconvert_exporter": "python",
   "pygments_lexer": "ipython3",
   "version": "3.12.9"
  }
 },
 "nbformat": 4,
 "nbformat_minor": 5
}
